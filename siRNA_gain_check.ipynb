{
 "metadata": {
  "name": "siRNA_gain_check"
 },
 "nbformat": 3,
 "nbformat_minor": 0,
 "worksheets": [
  {
   "cells": [
    {
     "cell_type": "code",
     "collapsed": false,
     "input": [
      "from lxml import etree"
     ],
     "language": "python",
     "metadata": {},
     "outputs": [],
     "prompt_number": 1
    },
    {
     "cell_type": "code",
     "collapsed": false,
     "input": [
      "from collections import Counter"
     ],
     "language": "python",
     "metadata": {},
     "outputs": [],
     "prompt_number": 31
    },
    {
     "cell_type": "code",
     "collapsed": false,
     "input": [
      "doc = etree.parse('/home/martin/Skrivbord/{ScanningTemplate}si8_10x.lrp')"
     ],
     "language": "python",
     "metadata": {},
     "outputs": [],
     "prompt_number": 2
    },
    {
     "cell_type": "code",
     "collapsed": false,
     "input": [
      "sequences = doc.findall(\"//ATLConfocalSettingDefinition\")"
     ],
     "language": "python",
     "metadata": {},
     "outputs": [],
     "prompt_number": 4
    },
    {
     "cell_type": "code",
     "collapsed": false,
     "input": [
      "green = ()\n",
      "blue = ()\n",
      "yellow = ()\n",
      "red = ()\n",
      "for seq in sequences:\n",
      "    LUTlist = seq.findall(\"LUT_List\")\n",
      "    LUTs = LUTlist[0].findall(\"LUT\")\n",
      "    DetectorList = seq.findall(\"DetectorList\")\n",
      "    detectors = DetectorList[0].findall(\"Detector\")\n",
      "    for detector in detectors:\n",
      "        if (detector.attrib['IsActive'] == \"1\") & (detector.attrib['Gain'] != \"0\"):\n",
      "            for lut in LUTs:\n",
      "                if lut.attrib['Channel'] == detector.attrib['Channel']:\n",
      "                    if lut.attrib['LutName'] == \"Green\":\n",
      "                        green = green + (detector.attrib['Gain'],)\n",
      "                    if lut.attrib['LutName'] == \"Blue\":\n",
      "                        blue = blue + (detector.attrib['Gain'],)\n",
      "                    if lut.attrib['LutName'] == \"Yellow\":\n",
      "                        yellow = yellow + (detector.attrib['Gain'],)\n",
      "                    if lut.attrib['LutName'] == \"Red\":\n",
      "                        red = red + (detector.attrib['Gain'],)\n",
      "countGreen = Counter(green)\n",
      "countBlue = Counter(blue)\n",
      "countYellow = Counter(yellow)\n",
      "countRed = Counter(red)\n",
      "print(\"Green: \"+str(countGreen))\n",
      "print(\"Blue: \"+str(countBlue))\n",
      "print(\"Yellow: \"+str(countYellow))\n",
      "print(\"Red: \"+str(countRed))"
     ],
     "language": "python",
     "metadata": {},
     "outputs": [
      {
       "output_type": "stream",
       "stream": "stdout",
       "text": [
        "Green: Counter({'900': 6, '780': 5, '840': 4, '810': 4, '720': 3, '750': 2, '600': 2, '690': 2, '870': 2, '630': 1, '660': 1})\n",
        "Blue: Counter({'990': 8, '930': 8, '900': 6, '870': 4, '810': 2, '960': 2, '780': 1, '840': 1})\n",
        "Yellow: Counter({'800': 19, '830': 6, '860': 4, '890': 3})\n",
        "Red: Counter({'730': 10, '760': 9, '700': 9, '790': 4, '689.230945296407': 1})\n"
       ]
      }
     ],
     "prompt_number": 45
    },
    {
     "cell_type": "code",
     "collapsed": false,
     "input": [],
     "language": "python",
     "metadata": {},
     "outputs": []
    }
   ],
   "metadata": {}
  }
 ]
}
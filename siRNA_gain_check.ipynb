{
 "metadata": {
  "name": "siRNA_gain_check"
 },
 "nbformat": 3,
 "nbformat_minor": 0,
 "worksheets": [
  {
   "cells": [
    {
     "cell_type": "code",
     "collapsed": false,
     "input": [
      "from lxml import etree"
     ],
     "language": "python",
     "metadata": {},
     "outputs": [],
     "prompt_number": 18
    },
    {
     "cell_type": "code",
     "collapsed": false,
     "input": [
      "from collections import Counter"
     ],
     "language": "python",
     "metadata": {},
     "outputs": [],
     "prompt_number": 19
    },
    {
     "cell_type": "code",
     "collapsed": false,
     "input": [
      "doc = etree.parse('/home/martin/Skrivbord/{ScanningTemplate}si8_10x.lrp')"
     ],
     "language": "python",
     "metadata": {},
     "outputs": [],
     "prompt_number": 20
    },
    {
     "cell_type": "code",
     "collapsed": false,
     "input": [
      "sequences = doc.findall(\"//ATLConfocalSettingDefinition\")"
     ],
     "language": "python",
     "metadata": {},
     "outputs": [],
     "prompt_number": 21
    },
    {
     "cell_type": "code",
     "collapsed": false,
     "input": [
      "green = ()\n",
      "blue = ()\n",
      "yellow = ()\n",
      "red = ()\n",
      "for seq in sequences:\n",
      "    LUTlist = seq.findall(\"LUT_List\")\n",
      "    LUTs = LUTlist[0].findall(\"LUT\")\n",
      "    DetectorList = seq.findall(\"DetectorList\")\n",
      "    detectors = DetectorList[0].findall(\"Detector\")\n",
      "    for detector in detectors:\n",
      "        if (detector.attrib['IsActive'] == \"1\") & (detector.attrib['Gain'] != \"0\"):\n",
      "            for lut in LUTs:\n",
      "                if lut.attrib['Channel'] == detector.attrib['Channel']:\n",
      "                    if lut.attrib['LutName'] == \"Green\":\n",
      "                        green = green + (detector.attrib['Gain'],)\n",
      "                    if lut.attrib['LutName'] == \"Blue\":\n",
      "                        blue = blue + (detector.attrib['Gain'],)\n",
      "                    if lut.attrib['LutName'] == \"Yellow\":\n",
      "                        yellow = yellow + (detector.attrib['Gain'],)\n",
      "                    if lut.attrib['LutName'] == \"Red\":\n",
      "                        red = red + (detector.attrib['Gain'],)\n",
      "countGreen = Counter(green)\n",
      "countBlue = Counter(blue)\n",
      "countYellow = Counter(yellow)\n",
      "countRed = Counter(red)\n",
      "print(\"Green: \"+str(countGreen))\n",
      "print(\"Blue: \"+str(countBlue))\n",
      "print(\"Yellow: \"+str(countYellow))\n",
      "print(\"Red: \"+str(countRed))"
     ],
     "language": "python",
     "metadata": {},
     "outputs": [
      {
       "output_type": "stream",
       "stream": "stdout",
       "text": [
        "Green: Counter({'900': 6, '780': 5, '840': 4, '810': 4, '720': 3, '750': 2, '600': 2, '690': 2, '870': 2, '630': 1, '660': 1})\n",
        "Blue: Counter({'990': 8, '930': 8, '900': 6, '870': 4, '810': 2, '960': 2, '780': 1, '840': 1})\n",
        "Yellow: Counter({'800': 19, '830': 6, '860': 4, '890': 3})\n",
        "Red: Counter({'730': 10, '760': 9, '700': 9, '790': 4, '689.230945296407': 1})\n"
       ]
      }
     ],
     "prompt_number": 22
    },
    {
     "cell_type": "code",
     "collapsed": false,
     "input": [
      "import fileinput\n",
      "from lxml import etree\n",
      "from collections import Counter\n",
      "\n",
      "def add_gain(_channel, _channel_results, _detector):\n",
      "    \"This adds the gain value to a tuple for each channel.\"\n",
      "    channel_tuple = _channel_results[_channel]\n",
      "    channel_tuple = channel_tuple + (_detector.attrib['Gain'],)\n",
      "    _channel_results[_channel] = channel_tuple\n",
      "    return _channel_results\n",
      "\n",
      "for line in fileinput.input():\n",
      "    (line)\n",
      "    doc = etree.parse(line)\n",
      "    #doc = etree.parse('/home/martin/Skrivbord/{ScanningTemplate}si8_10x.lrp')\n",
      "    sequences = doc.findall(\"//ATLConfocalSettingDefinition\")\n",
      "green = ()\n",
      "blue = ()\n",
      "yellow = ()\n",
      "red = ()\n",
      "channel_results = {\"Green\": green, \"Blue\": blue, \"Yellow\": yellow, \"Red\": red}\n",
      "\n",
      "for seq in sequences:\n",
      "    LUTlist = seq.findall(\"LUT_List\")\n",
      "    LUTs = LUTlist[0].findall(\"LUT\")\n",
      "    DetectorList = seq.findall(\"DetectorList\")\n",
      "    detectors = DetectorList[0].findall(\"Detector\")\n",
      "    for detector in detectors:\n",
      "        if (detector.attrib['IsActive'] == \"1\") & (detector.attrib['Gain'] != \"0\"):\n",
      "            for lut in LUTs:\n",
      "                if lut.attrib['Channel'] == detector.attrib['Channel']:\n",
      "                    channel_results = add_gain(lut.attrib['LutName'], channel_results, detector)\n",
      "# Counts how many values of each gain, each channel has, in a histogram fashion. Prints histogram from the Counter object.\n",
      "for channel in channel_results:\n",
      "    print(channel+\": \"+str(Counter(channel_results[channel]).items()))"
     ],
     "language": "python",
     "metadata": {},
     "outputs": [
      {
       "output_type": "stream",
       "stream": "stdout",
       "text": [
        "Blue: [('900', 6), ('780', 1), ('990', 8), ('840', 1), ('870', 4), ('810', 2), ('960', 2), ('930', 8)]\n",
        "Green: [('630', 1), ('900', 6), ('750', 2), ('780', 5), ('600', 2), ('840', 4), ('690', 2), ('870', 2), ('660', 1), ('720', 3), ('810', 4)]\n",
        "Red: [('689.230945296407', 1), ('730', 10), ('760', 9), ('700', 9), ('790', 4)]\n",
        "Yellow: [('890', 3), ('860', 4), ('830', 6), ('800', 19)]\n"
       ]
      }
     ],
     "prompt_number": 31
    },
    {
     "cell_type": "code",
     "collapsed": false,
     "input": [],
     "language": "python",
     "metadata": {},
     "outputs": []
    }
   ],
   "metadata": {}
  }
 ]
}